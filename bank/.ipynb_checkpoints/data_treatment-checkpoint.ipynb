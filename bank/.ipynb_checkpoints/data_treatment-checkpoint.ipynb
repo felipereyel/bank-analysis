{
 "cells": [
  {
   "cell_type": "code",
   "execution_count": 1,
   "metadata": {},
   "outputs": [],
   "source": [
    "import numpy as np\n",
    "import matplotlib.pyplot as plt\n",
    "import pandas as pd\n",
    "import seaborn as sns\n",
    "import json\n",
    "from IPython.display import clear_output"
   ]
  },
  {
   "cell_type": "code",
   "execution_count": 2,
   "metadata": {},
   "outputs": [
    {
     "name": "stderr",
     "output_type": "stream",
     "text": [
      "c:\\users\\felip\\appdata\\local\\programs\\python\\python37-32\\lib\\site-packages\\sklearn\\externals\\six.py:31: DeprecationWarning: The module is deprecated in version 0.21 and will be removed in version 0.23 since we've dropped support for Python 2.7. Please rely on the official version of six (https://pypi.org/project/six/).\n",
      "  \"(https://pypi.org/project/six/).\", DeprecationWarning)\n"
     ]
    }
   ],
   "source": [
    "# pre processing tools\n",
    "from sklearn.model_selection import train_test_split\n",
    "from sklearn.preprocessing import StandardScaler, MaxAbsScaler, PowerTransformer, MinMaxScaler, Normalizer\n",
    "# classifiers\n",
    "from sklearn.neighbors import KNeighborsClassifier\n",
    "from sklearn.naive_bayes import GaussianNB\n",
    "from sklearn.tree import DecisionTreeClassifier\n",
    "from sklearn.neural_network import MLPClassifier\n",
    "from sklearn.svm import SVC\n",
    "# evaluating tools\n",
    "from sklearn.metrics import classification_report, confusion_matrix, accuracy_score\n",
    "# visualzing tools\n",
    "from sklearn.tree import export_graphviz\n",
    "from sklearn.externals.six import StringIO  \n",
    "from IPython.display import Image  \n",
    "import pydotplus"
   ]
  },
  {
   "cell_type": "markdown",
   "metadata": {},
   "source": [
    " "
   ]
  },
  {
   "cell_type": "markdown",
   "metadata": {},
   "source": [
    " "
   ]
  },
  {
   "cell_type": "markdown",
   "metadata": {},
   "source": [
    "# 1. Importando e descrevendo os dados"
   ]
  },
  {
   "cell_type": "code",
   "execution_count": 3,
   "metadata": {},
   "outputs": [],
   "source": [
    "data = pd.read_csv('bank-full.csv', sep=';')"
   ]
  },
  {
   "cell_type": "markdown",
   "metadata": {},
   "source": [
    "O conjunto de dados escolhido foi o 'bank.csv' disponivel em https://archive.ics.uci.edu/ml/datasets/Bank+Marketing\n",
    "\n",
    "O objetivo da classificação é prever se o cliente vai fazer o depósito para o investimento (variável booleana/categórica \"y\")\n",
    "\n",
    "As seguintes informações estão disponíveis no site fonte:\n",
    "- Características do conjunto de dados: Multivariados\n",
    "- Número de instâncias: 45211\n",
    "- Área: Negócios\n",
    "- Características dos atributos: Reais\n",
    "- Número de Atributos: 17\n",
    "- Data de donação: 2012-02-14\n",
    "- Tarefas Associadas: Classificação\n",
    "- Valores Nulos? N/A"
   ]
  },
  {
   "cell_type": "code",
   "execution_count": 4,
   "metadata": {},
   "outputs": [],
   "source": [
    "result_column = 'y'\n",
    "\n",
    "feature_columns = ['default', 'housing', 'loan', 'job', 'marital', \n",
    "                   'education', 'contact', 'month', 'poutcome', 'age', \n",
    "                   'balance', 'day', 'campaign', 'pdays', 'previous']"
   ]
  },
  {
   "cell_type": "markdown",
   "metadata": {},
   "source": [
    "Essas são as colunas de features e resultados"
   ]
  },
  {
   "cell_type": "markdown",
   "metadata": {},
   "source": [
    "A descrição das colunas disponíveis na versão em análise são:\n",
    "- age: valor numerico representando a idade do cliente\n",
    "- job: valor categorico representando o tipo de trabalho executado pelo cliente\n",
    "- marital: valor categorico representando estado civil do cliente\n",
    "- education: valor categorico representando o nivel de educacao do cliente\n",
    "- default: has credit in default?\n",
    "- housing: valor categorico/booleano representando se o cliente tem emprestimo na casa\n",
    "- loan: valor categorico/booleano representando se o cliente tem emprestimo\n",
    "- contact: valor categorico representando o tipo de comunicacao com o cliente\n",
    "- month: valor categorico representando o mes do ultimo contato\n",
    "- day: valor numerico representando o dia do mes do ultimo contato \n",
    "- campaign: valor numerico representando o numero de contatos com o cliente na ultima campanha\n",
    "- pdays: valor numerico representando o numero de dias passados entre o ultimo contato da campanha anterior\n",
    "- previous: valor numerico representando o numero de contatos realizados antes dessa campanha\n",
    "- poutcome: valor categorico representando o resultado da ultima campanha com esse cliente\n",
    "\n",
    "\n",
    "- duration: valor numerico representando a duracao do ultimo contato em segundos. Nota importante: esse atributo esta diretamente relacionado com a variavel de saida (duration = 0 -> y = 'no'). Assim, essa variavel deve ser incluida apenas em benchmarking e descartada em treinos."
   ]
  },
  {
   "cell_type": "code",
   "execution_count": 5,
   "metadata": {},
   "outputs": [],
   "source": [
    "boolean_columns = ['default', 'housing', 'loan', 'y']\n",
    "categorical_columns = ['job', 'marital', 'education', 'contact', 'month', 'poutcome']\n",
    "all_categorical_columns = boolean_columns + categorical_columns\n",
    "\n",
    "numerical_columns = ['age', 'balance', 'day', 'duration', 'campaign', 'pdays', 'previous']"
   ]
  },
  {
   "cell_type": "markdown",
   "metadata": {},
   "source": [
    "As colunas de cada tipo foram aqui separadas para facilitar a análise "
   ]
  },
  {
   "cell_type": "code",
   "execution_count": 6,
   "metadata": {
    "scrolled": true
   },
   "outputs": [
    {
     "data": {
      "text/html": [
       "<div>\n",
       "<style scoped>\n",
       "    .dataframe tbody tr th:only-of-type {\n",
       "        vertical-align: middle;\n",
       "    }\n",
       "\n",
       "    .dataframe tbody tr th {\n",
       "        vertical-align: top;\n",
       "    }\n",
       "\n",
       "    .dataframe thead th {\n",
       "        text-align: right;\n",
       "    }\n",
       "</style>\n",
       "<table border=\"1\" class=\"dataframe\">\n",
       "  <thead>\n",
       "    <tr style=\"text-align: right;\">\n",
       "      <th></th>\n",
       "      <th>age</th>\n",
       "      <th>job</th>\n",
       "      <th>marital</th>\n",
       "      <th>education</th>\n",
       "      <th>default</th>\n",
       "      <th>balance</th>\n",
       "      <th>housing</th>\n",
       "      <th>loan</th>\n",
       "      <th>contact</th>\n",
       "      <th>day</th>\n",
       "      <th>month</th>\n",
       "      <th>duration</th>\n",
       "      <th>campaign</th>\n",
       "      <th>pdays</th>\n",
       "      <th>previous</th>\n",
       "      <th>poutcome</th>\n",
       "      <th>y</th>\n",
       "    </tr>\n",
       "  </thead>\n",
       "  <tbody>\n",
       "    <tr>\n",
       "      <th>0</th>\n",
       "      <td>58</td>\n",
       "      <td>management</td>\n",
       "      <td>married</td>\n",
       "      <td>tertiary</td>\n",
       "      <td>no</td>\n",
       "      <td>2143</td>\n",
       "      <td>yes</td>\n",
       "      <td>no</td>\n",
       "      <td>unknown</td>\n",
       "      <td>5</td>\n",
       "      <td>may</td>\n",
       "      <td>261</td>\n",
       "      <td>1</td>\n",
       "      <td>-1</td>\n",
       "      <td>0</td>\n",
       "      <td>unknown</td>\n",
       "      <td>no</td>\n",
       "    </tr>\n",
       "    <tr>\n",
       "      <th>1</th>\n",
       "      <td>44</td>\n",
       "      <td>technician</td>\n",
       "      <td>single</td>\n",
       "      <td>secondary</td>\n",
       "      <td>no</td>\n",
       "      <td>29</td>\n",
       "      <td>yes</td>\n",
       "      <td>no</td>\n",
       "      <td>unknown</td>\n",
       "      <td>5</td>\n",
       "      <td>may</td>\n",
       "      <td>151</td>\n",
       "      <td>1</td>\n",
       "      <td>-1</td>\n",
       "      <td>0</td>\n",
       "      <td>unknown</td>\n",
       "      <td>no</td>\n",
       "    </tr>\n",
       "    <tr>\n",
       "      <th>2</th>\n",
       "      <td>33</td>\n",
       "      <td>entrepreneur</td>\n",
       "      <td>married</td>\n",
       "      <td>secondary</td>\n",
       "      <td>no</td>\n",
       "      <td>2</td>\n",
       "      <td>yes</td>\n",
       "      <td>yes</td>\n",
       "      <td>unknown</td>\n",
       "      <td>5</td>\n",
       "      <td>may</td>\n",
       "      <td>76</td>\n",
       "      <td>1</td>\n",
       "      <td>-1</td>\n",
       "      <td>0</td>\n",
       "      <td>unknown</td>\n",
       "      <td>no</td>\n",
       "    </tr>\n",
       "    <tr>\n",
       "      <th>3</th>\n",
       "      <td>47</td>\n",
       "      <td>blue-collar</td>\n",
       "      <td>married</td>\n",
       "      <td>unknown</td>\n",
       "      <td>no</td>\n",
       "      <td>1506</td>\n",
       "      <td>yes</td>\n",
       "      <td>no</td>\n",
       "      <td>unknown</td>\n",
       "      <td>5</td>\n",
       "      <td>may</td>\n",
       "      <td>92</td>\n",
       "      <td>1</td>\n",
       "      <td>-1</td>\n",
       "      <td>0</td>\n",
       "      <td>unknown</td>\n",
       "      <td>no</td>\n",
       "    </tr>\n",
       "    <tr>\n",
       "      <th>4</th>\n",
       "      <td>33</td>\n",
       "      <td>unknown</td>\n",
       "      <td>single</td>\n",
       "      <td>unknown</td>\n",
       "      <td>no</td>\n",
       "      <td>1</td>\n",
       "      <td>no</td>\n",
       "      <td>no</td>\n",
       "      <td>unknown</td>\n",
       "      <td>5</td>\n",
       "      <td>may</td>\n",
       "      <td>198</td>\n",
       "      <td>1</td>\n",
       "      <td>-1</td>\n",
       "      <td>0</td>\n",
       "      <td>unknown</td>\n",
       "      <td>no</td>\n",
       "    </tr>\n",
       "  </tbody>\n",
       "</table>\n",
       "</div>"
      ],
      "text/plain": [
       "   age           job  marital  education default  balance housing loan  \\\n",
       "0   58    management  married   tertiary      no     2143     yes   no   \n",
       "1   44    technician   single  secondary      no       29     yes   no   \n",
       "2   33  entrepreneur  married  secondary      no        2     yes  yes   \n",
       "3   47   blue-collar  married    unknown      no     1506     yes   no   \n",
       "4   33       unknown   single    unknown      no        1      no   no   \n",
       "\n",
       "   contact  day month  duration  campaign  pdays  previous poutcome   y  \n",
       "0  unknown    5   may       261         1     -1         0  unknown  no  \n",
       "1  unknown    5   may       151         1     -1         0  unknown  no  \n",
       "2  unknown    5   may        76         1     -1         0  unknown  no  \n",
       "3  unknown    5   may        92         1     -1         0  unknown  no  \n",
       "4  unknown    5   may       198         1     -1         0  unknown  no  "
      ]
     },
     "execution_count": 6,
     "metadata": {},
     "output_type": "execute_result"
    }
   ],
   "source": [
    "data.head()"
   ]
  },
  {
   "cell_type": "markdown",
   "metadata": {},
   "source": [
    "Uma amostra de como estão os dados para referência"
   ]
  },
  {
   "cell_type": "markdown",
   "metadata": {},
   "source": [
    " "
   ]
  },
  {
   "cell_type": "markdown",
   "metadata": {},
   "source": [
    " "
   ]
  },
  {
   "cell_type": "markdown",
   "metadata": {},
   "source": [
    "# 2. Estatistica e análise dos dados\n",
    "https://www.kaggle.com/kashnitsky/topic-1-exploratory-data-analysis-with-pandas\n",
    "\n",
    "https://towardsdatascience.com/5-quick-and-easy-data-visualizations-in-python-with-code-a2284bae952f\n",
    "\n",
    "https://towardsdatascience.com/introduction-to-data-visualization-in-python-89a54c97fbed\n",
    "\n",
    "https://www.analyticsvidhya.com/blog/2016/01/complete-tutorial-learn-data-science-python-scratch-2/"
   ]
  },
  {
   "cell_type": "markdown",
   "metadata": {},
   "source": [
    "### 2.1 Visão geral"
   ]
  },
  {
   "cell_type": "code",
   "execution_count": 7,
   "metadata": {
    "scrolled": true
   },
   "outputs": [
    {
     "data": {
      "text/plain": [
       "age          0\n",
       "job          0\n",
       "marital      0\n",
       "education    0\n",
       "default      0\n",
       "balance      0\n",
       "housing      0\n",
       "loan         0\n",
       "contact      0\n",
       "day          0\n",
       "month        0\n",
       "duration     0\n",
       "campaign     0\n",
       "pdays        0\n",
       "previous     0\n",
       "poutcome     0\n",
       "y            0\n",
       "dtype: int64"
      ]
     },
     "execution_count": 7,
     "metadata": {},
     "output_type": "execute_result"
    }
   ],
   "source": [
    "data.apply(lambda x: sum(x.isnull()),axis=0)"
   ]
  },
  {
   "cell_type": "markdown",
   "metadata": {},
   "source": [
    "Verificamos que realmente não existem dados nulos nesse dataset, como mencionado na fonte"
   ]
  },
  {
   "cell_type": "code",
   "execution_count": 8,
   "metadata": {
    "scrolled": true
   },
   "outputs": [
    {
     "name": "stdout",
     "output_type": "stream",
     "text": [
      "y = No -> 39922 : 88.30151954170445%\n",
      "y = Yes -> 5289 : 11.698480458295547%\n"
     ]
    }
   ],
   "source": [
    "total_len = data[result_column].count()\n",
    "class_no_len = data[data[result_column] == 'no'][result_column].count()\n",
    "class_no_perc = class_no_len / total_len\n",
    "class_yes_len = data[data[result_column] == 'yes'][result_column].count()\n",
    "class_yes_perc = class_yes_len / total_len\n",
    "print(f'{result_column} = No -> {class_no_len} : {class_no_perc*100}%')\n",
    "print(f'{result_column} = Yes -> {class_yes_len} : {class_yes_perc*100}%')"
   ]
  },
  {
   "cell_type": "markdown",
   "metadata": {},
   "source": [
    "Exibimos, também a disctribuição das classes, e notamos que a classe 'y == No' domina com quase 90% de presença nos dados"
   ]
  },
  {
   "cell_type": "markdown",
   "metadata": {},
   "source": [
    "### 2.2 Visão estatística"
   ]
  },
  {
   "cell_type": "code",
   "execution_count": 9,
   "metadata": {
    "scrolled": false
   },
   "outputs": [
    {
     "data": {
      "image/png": "[encoded data removed]",
      "text/plain": [
       "<Figure size 432x288 with 2 Axes>"
      ]
     },
     "metadata": {
      "needs_background": "light"
     },
     "output_type": "display_data"
    },
    {
     "data": {
      "image/png": "[encoded data removed]",
      "text/plain": [
       "<Figure size 432x288 with 2 Axes>"
      ]
     },
     "metadata": {
      "needs_background": "light"
     },
     "output_type": "display_data"
    },
    {
     "data": {
      "image/png": "[encoded data removed]",
      "text/plain": [
       "<Figure size 432x288 with 2 Axes>"
      ]
     },
     "metadata": {
      "needs_background": "light"
     },
     "output_type": "display_data"
    },
    {
     "data": {
      "image/png": "[encoded data removed]",
      "text/plain": [
       "<Figure size 432x288 with 2 Axes>"
      ]
     },
     "metadata": {
      "needs_background": "light"
     },
     "output_type": "display_data"
    },
    {
     "data": {
      "image/png": "[encoded data removed]",
      "text/plain": [
       "<Figure size 432x288 with 2 Axes>"
      ]
     },
     "metadata": {
      "needs_background": "light"
     },
     "output_type": "display_data"
    },
    {
     "data": {
      "image/png": "[encoded data removed]",
      "text/plain": [
       "<Figure size 432x288 with 2 Axes>"
      ]
     },
     "metadata": {
      "needs_background": "light"
     },
     "output_type": "display_data"
    },
    {
     "data": {
      "image/png": "[encoded data removed]",
      "text/plain": [
       "<Figure size 432x288 with 2 Axes>"
      ]
     },
     "metadata": {
      "needs_background": "light"
     },
     "output_type": "display_data"
    }
   ],
   "source": [
    "for num in numerical_columns:\n",
    "    num_df_desc = pd.DataFrame()\n",
    "    num_df = pd.DataFrame()\n",
    "    fig, (ax1, ax2) = plt.subplots(ncols=2)\n",
    "    fig.tight_layout()\n",
    "    \n",
    "    num_df_desc['yes'] = (data[data[result_column] == 'yes'][[result_column,num]].describe())[num]\n",
    "    num_df_desc['no'] = (data[data[result_column] == 'no'][[result_column,num]].describe())[num]\n",
    "    num_df_desc['All'] = (data[[result_column,num]].describe())[num]\n",
    "    num_df_desc.drop(['count', '25%', '50%', '75%'], inplace=True)\n",
    "    \n",
    "    num_df = data[[result_column,num]]\n",
    "    \n",
    "    num_df.plot(kind='hist', title=f'{num} and {result_column} histogram', stacked=False, ax=ax1)\n",
    "    num_df_desc.plot(kind='bar', title=f'{num} and {result_column} statistics', ax=ax2)"
   ]
  },
  {
   "cell_type": "markdown",
   "metadata": {},
   "source": [
    "#### Dados numéricos\n",
    "Dos histogramas e estatísticas dos dados numéricos podemos tirar algumas conclusões:\n",
    "- age: Mínimo 18, máximo 95 e média aprx 41, não há grande diferença entre as classes e o total \n",
    "- balance: Vemos que grande parte das entradas tem balance negativo mas temos outliers com balance muito positivo levando a média para entorno de 1500,00\n",
    "- day: Vemos uma distribuição bem mais aberta que os demais atributos, porém pode-se notar dias de pico e vale de entradas\n",
    "- campaign: Notamos que a esmagador maioria dos clientes foi contatado poucas vezes (média aprx 3), mas temos casos outliers com máximo superior a 60 contados\n",
    "- pdays: Vemos que a grande maioria dos clientes é alvo de nova campanha após aprx 50 dias"
   ]
  },
  {
   "cell_type": "code",
   "execution_count": 10,
   "metadata": {
    "scrolled": false
   },
   "outputs": [
    {
     "data": {
      "image/png": "[encoded data removed]",
      "text/plain": [
       "<Figure size 432x288 with 2 Axes>"
      ]
     },
     "metadata": {
      "needs_background": "light"
     },
     "output_type": "display_data"
    },
    {
     "data": {
      "image/png": "[encoded data removed]",
      "text/plain": [
       "<Figure size 432x288 with 2 Axes>"
      ]
     },
     "metadata": {
      "needs_background": "light"
     },
     "output_type": "display_data"
    },
    {
     "data": {
      "image/png": "[encoded data removed]",
      "text/plain": [
       "<Figure size 432x288 with 2 Axes>"
      ]
     },
     "metadata": {
      "needs_background": "light"
     },
     "output_type": "display_data"
    },
    {
     "data": {
      "image/png": "[encoded data removed]",
      "text/plain": [
       "<Figure size 432x288 with 2 Axes>"
      ]
     },
     "metadata": {
      "needs_background": "light"
     },
     "output_type": "display_data"
    },
    {
     "data": {
      "image/png": "[encoded data removed]",
      "text/plain": [
       "<Figure size 432x288 with 2 Axes>"
      ]
     },
     "metadata": {
      "needs_background": "light"
     },
     "output_type": "display_data"
    },
    {
     "data": {
      "image/png": "[encoded data removed]",
      "text/plain": [
       "<Figure size 432x288 with 2 Axes>"
      ]
     },
     "metadata": {
      "needs_background": "light"
     },
     "output_type": "display_data"
    },
    {
     "data": {
      "image/png": "[encoded data removed]",
      "text/plain": [
       "<Figure size 432x288 with 2 Axes>"
      ]
     },
     "metadata": {
      "needs_background": "light"
     },
     "output_type": "display_data"
    },
    {
     "data": {
      "image/png": "[encoded data removed]",
      "text/plain": [
       "<Figure size 432x288 with 2 Axes>"
      ]
     },
     "metadata": {
      "needs_background": "light"
     },
     "output_type": "display_data"
    },
    {
     "data": {
      "image/png": "[encoded data removed]",
      "text/plain": [
       "<Figure size 432x288 with 2 Axes>"
      ]
     },
     "metadata": {
      "needs_background": "light"
     },
     "output_type": "display_data"
    }
   ],
   "source": [
    "for cat in all_categorical_columns:\n",
    "    if cat == result_column:\n",
    "        continue\n",
    "        \n",
    "    fig, (ax1, ax2) = plt.subplots(ncols=2)\n",
    "    fig.tight_layout()\n",
    "    \n",
    "    count_data = pd.crosstab(data[cat], data[result_column]).sort_values(by=['no'])\n",
    "    norm_data = pd.crosstab(data[cat], data[result_column], margins=True, margins_name='All', normalize='index').sort_values(by=['no'])\n",
    "\n",
    "    count_data.plot(kind='bar', stacked=True, title=f'{cat} and {result_column} distribution', grid=False, ax=ax1)\n",
    "    norm_data.plot(kind='bar', stacked=True, title=f'{cat} and {result_column} normalized', grid=False, ax=ax2)"
   ]
  },
  {
   "cell_type": "markdown",
   "metadata": {},
   "source": [
    "#### Dados categóricos\n",
    "Da análise dos dados categóricos podemos tirar as seguintes conclusões:\n",
    "- default: poucas pessoas tem crédito em default\n",
    "- job: estudantes e aposentados convertem na campanha bem mais que a média \n",
    "- month: marco, dezembro, outubro e setembro tem uma taxa de conversão bem acima da média (e em valores nominais tem bem menos instâncias) e maio domina em número de instâncias mas tem a menor conversão\n",
    "- poutcome: se o resultado da campanha anterior foi positivo a taxa de conversão dispara"
   ]
  },
  {
   "cell_type": "markdown",
   "metadata": {},
   "source": [
    " "
   ]
  },
  {
   "cell_type": "markdown",
   "metadata": {},
   "source": [
    " "
   ]
  },
  {
   "cell_type": "markdown",
   "metadata": {},
   "source": [
    "# Categorizando e quebrando o dataset em casos de treino e teste\n",
    "https://towardsdatascience.com/normalization-vs-standardization-quantitative-analysis-a91e8a79cebf"
   ]
  },
  {
   "cell_type": "markdown",
   "metadata": {},
   "source": [
    "Precisamos transformar os dados categóricos em numéricos para que os algorítmos possam rodar, assim faz-se um mapa que, para cada atributo, associa um valor categórico a um numérico e em seguida fazemos a substituição inplace"
   ]
  },
  {
   "cell_type": "code",
   "execution_count": 11,
   "metadata": {},
   "outputs": [],
   "source": [
    "replace_map = {}\n",
    "for cat in all_categorical_columns:\n",
    "    replace_map[cat] = {}\n",
    "    for idx, val in enumerate(data[cat].unique()):\n",
    "        replace_map[cat][val] = idx"
   ]
  },
  {
   "cell_type": "code",
   "execution_count": 12,
   "metadata": {
    "scrolled": false
   },
   "outputs": [
    {
     "name": "stdout",
     "output_type": "stream",
     "text": [
      "{\n",
      "    \"contact\": {\n",
      "        \"cellular\": 1,\n",
      "        \"telephone\": 2,\n",
      "        \"unknown\": 0\n",
      "    },\n",
      "    \"default\": {\n",
      "        \"no\": 0,\n",
      "        \"yes\": 1\n",
      "    },\n",
      "    \"education\": {\n",
      "        \"primary\": 3,\n",
      "        \"secondary\": 1,\n",
      "        \"tertiary\": 0,\n",
      "        \"unknown\": 2\n",
      "    },\n",
      "    \"housing\": {\n",
      "        \"no\": 1,\n",
      "        \"yes\": 0\n",
      "    },\n",
      "    \"job\": {\n",
      "        \"admin.\": 6,\n",
      "        \"blue-collar\": 3,\n",
      "        \"entrepreneur\": 2,\n",
      "        \"housemaid\": 10,\n",
      "        \"management\": 0,\n",
      "        \"retired\": 5,\n",
      "        \"self-employed\": 8,\n",
      "        \"services\": 7,\n",
      "        \"student\": 11,\n",
      "        \"technician\": 1,\n",
      "        \"unemployed\": 9,\n",
      "        \"unknown\": 4\n",
      "    },\n",
      "    \"loan\": {\n",
      "        \"no\": 0,\n",
      "        \"yes\": 1\n",
      "    },\n",
      "    \"marital\": {\n",
      "        \"divorced\": 2,\n",
      "        \"married\": 0,\n",
      "        \"single\": 1\n",
      "    },\n",
      "    \"month\": {\n",
      "        \"apr\": 10,\n",
      "        \"aug\": 3,\n",
      "        \"dec\": 6,\n",
      "        \"feb\": 8,\n",
      "        \"jan\": 7,\n",
      "        \"jul\": 2,\n",
      "        \"jun\": 1,\n",
      "        \"mar\": 9,\n",
      "        \"may\": 0,\n",
      "        \"nov\": 5,\n",
      "        \"oct\": 4,\n",
      "        \"sep\": 11\n",
      "    },\n",
      "    \"poutcome\": {\n",
      "        \"failure\": 1,\n",
      "        \"other\": 2,\n",
      "        \"success\": 3,\n",
      "        \"unknown\": 0\n",
      "    },\n",
      "    \"y\": {\n",
      "        \"no\": 0,\n",
      "        \"yes\": 1\n",
      "    }\n",
      "}\n"
     ]
    }
   ],
   "source": [
    "print(json.dumps(replace_map, indent=4, sort_keys=True))"
   ]
  },
  {
   "cell_type": "code",
   "execution_count": 13,
   "metadata": {},
   "outputs": [],
   "source": [
    "data.replace(replace_map, inplace=True)"
   ]
  },
  {
   "cell_type": "markdown",
   "metadata": {},
   "source": [
    "Com os dados convetidos em numéricos podemos separar em dataframe de entrada e de saida. \n",
    "\n",
    "Com esses dados separados conseguimos quebrar em conjunto de teste e treino (20% para testes).\n",
    "\n",
    "Em seguida criamos vários transformadores de dados (scalers, transformers e normalizer) para podermos testar qual retorna melhor resultado."
   ]
  },
  {
   "cell_type": "code",
   "execution_count": 14,
   "metadata": {},
   "outputs": [],
   "source": [
    "dataX = data.drop([result_column], axis=1)\n",
    "dataY = data[result_column]"
   ]
  },
  {
   "cell_type": "code",
   "execution_count": 15,
   "metadata": {},
   "outputs": [],
   "source": [
    "X_train, X_test, Y_train, Y_test = train_test_split(dataX, dataY, test_size=0.10)"
   ]
  },
  {
   "cell_type": "code",
   "execution_count": 16,
   "metadata": {},
   "outputs": [],
   "source": [
    "std_scaler = StandardScaler()\n",
    "std_scaler.fit(X_train)\n",
    "X_train_std_scaler = std_scaler.transform(X_train)\n",
    "X_test_std_scaler = std_scaler.transform(X_test)"
   ]
  },
  {
   "cell_type": "code",
   "execution_count": 17,
   "metadata": {},
   "outputs": [],
   "source": [
    "max_abs_scaler = MaxAbsScaler()\n",
    "max_abs_scaler.fit(X_train)\n",
    "X_train_max_abs_scaler = max_abs_scaler.transform(X_train)\n",
    "X_test_max_abs_scaler = max_abs_scaler.transform(X_test)"
   ]
  },
  {
   "cell_type": "code",
   "execution_count": 18,
   "metadata": {},
   "outputs": [],
   "source": [
    "power_transformer = PowerTransformer()\n",
    "power_transformer.fit(X_train)\n",
    "X_train_power_transformer = power_transformer.transform(X_train)\n",
    "X_test_power_transformer = power_transformer.transform(X_test)"
   ]
  },
  {
   "cell_type": "code",
   "execution_count": 19,
   "metadata": {},
   "outputs": [],
   "source": [
    "min_max_scaler = MinMaxScaler()\n",
    "min_max_scaler.fit(X_train)\n",
    "X_train_min_max_scaler = min_max_scaler.transform(X_train)\n",
    "X_test_min_max_scaler = min_max_scaler.transform(X_test)"
   ]
  },
  {
   "cell_type": "code",
   "execution_count": 20,
   "metadata": {},
   "outputs": [],
   "source": [
    "normlizer = Normalizer()\n",
    "normlizer.fit(X_train)\n",
    "X_train_normlizer = normlizer.transform(X_train)\n",
    "X_test_normlizer = normlizer.transform(X_test)"
   ]
  },
  {
   "cell_type": "markdown",
   "metadata": {},
   "source": [
    " "
   ]
  },
  {
   "cell_type": "markdown",
   "metadata": {},
   "source": [
    " "
   ]
  },
  {
   "cell_type": "markdown",
   "metadata": {},
   "source": [
    "# KNN\n",
    "https://www.datacamp.com/community/tutorials/k-nearest-neighbor-classification-scikit-learn"
   ]
  },
  {
   "cell_type": "markdown",
   "metadata": {},
   "source": [
    "Testamos vários números de vizinhos sugeridos pelas referências e chegamos no melhor resultado o com 10 vizinhos. \n",
    "\n",
    "Resultado de acurácia por tipo de transformer de vários testes para o KNN\n",
    "- std_scaler        Accuracy: 0.8980539584254754\n",
    "- max_abs_scaler    Accuracy: 0.8918620079610792\n",
    "- normlizer         Accuracy: 0.8878814683768245\n",
    "- min_max_scaler    Accuracy: 0.8863334807607254\n",
    "- power_transformer Accuracy: 0.8854489164086687\n",
    "\n",
    "Abaixo exibimos o resultado para o melhor tipo"
   ]
  },
  {
   "cell_type": "code",
   "execution_count": 21,
   "metadata": {},
   "outputs": [
    {
     "data": {
      "text/plain": [
       "KNeighborsClassifier(algorithm='auto', leaf_size=30, metric='minkowski',\n",
       "                     metric_params=None, n_jobs=None, n_neighbors=10, p=2,\n",
       "                     weights='uniform')"
      ]
     },
     "execution_count": 21,
     "metadata": {},
     "output_type": "execute_result"
    }
   ],
   "source": [
    "KNN_classifier = KNeighborsClassifier(n_neighbors=10)\n",
    "KNN_classifier.fit(X_train_std_scaler, Y_train)"
   ]
  },
  {
   "cell_type": "code",
   "execution_count": 22,
   "metadata": {},
   "outputs": [],
   "source": [
    "Y_KNN_pred = KNN_classifier.predict(X_test_std_scaler)"
   ]
  },
  {
   "cell_type": "code",
   "execution_count": 23,
   "metadata": {},
   "outputs": [
    {
     "name": "stdout",
     "output_type": "stream",
     "text": [
      "Accuracy: 0.8987173816895179\n"
     ]
    }
   ],
   "source": [
    "print(f'Accuracy: {accuracy_score(Y_test, Y_KNN_pred)}')"
   ]
  },
  {
   "cell_type": "code",
   "execution_count": 24,
   "metadata": {},
   "outputs": [
    {
     "name": "stdout",
     "output_type": "stream",
     "text": [
      "Report:\n",
      "              precision    recall  f1-score   support\n",
      "\n",
      "           0       0.92      0.98      0.94      4006\n",
      "           1       0.62      0.30      0.40       516\n",
      "\n",
      "    accuracy                           0.90      4522\n",
      "   macro avg       0.77      0.64      0.67      4522\n",
      "weighted avg       0.88      0.90      0.88      4522\n",
      "\n"
     ]
    }
   ],
   "source": [
    "print('Report:')\n",
    "print(classification_report(Y_test, Y_KNN_pred))"
   ]
  },
  {
   "cell_type": "code",
   "execution_count": 25,
   "metadata": {},
   "outputs": [
    {
     "name": "stdout",
     "output_type": "stream",
     "text": [
      "Matrix:\n",
      "[[3911   95]\n",
      " [ 363  153]]\n"
     ]
    }
   ],
   "source": [
    "print('Matrix:')\n",
    "print(confusion_matrix(Y_test, Y_KNN_pred))"
   ]
  },
  {
   "cell_type": "markdown",
   "metadata": {},
   "source": [
    "Pros\n",
    "The training phase of K-nearest neighbor classification is much faster compared to other classification algorithms. There is no need to train a model for generalization, That is why KNN is known as the simple and instance-based learning algorithm. KNN can be useful in case of nonlinear data. It can be used with the regression problem. Output value for the object is computed by the average of k closest neighbors value.\n",
    "\n",
    "Cons\n",
    "The testing phase of K-nearest neighbor classification is slower and costlier in terms of time and memory. It requires large memory for storing the entire training dataset for prediction. KNN requires scaling of data because KNN uses the Euclidean distance between two data points to find nearest neighbors. Euclidean distance is sensitive to magnitudes. The features with high magnitudes will weight more than features with low magnitudes. KNN also not suitable for large dimensional data."
   ]
  },
  {
   "cell_type": "markdown",
   "metadata": {},
   "source": [
    " "
   ]
  },
  {
   "cell_type": "markdown",
   "metadata": {},
   "source": [
    " "
   ]
  },
  {
   "cell_type": "markdown",
   "metadata": {},
   "source": [
    "# Naive Bayes\n",
    "https://www.datacamp.com/community/tutorials/naive-bayes-scikit-learn"
   ]
  },
  {
   "cell_type": "markdown",
   "metadata": {},
   "source": [
    "Resultado de acurácia por tipo de scaler/normalizer de vários testes para o Naive Bayes\n",
    "- std_scaler        Accuracy: 0.8491817779743477\n",
    "- max_abs_scaler    Accuracy: 0.8491817779743477\n",
    "- power_transformer Accuracy: 0.8204334365325078\n",
    "- min_max_scaler    Accuracy: 0.8204334365325078\n",
    "- normlizer         Accuracy: 0.7938965059708094\n",
    "\n",
    "Abaixo exibimos o resultado para o melhor tipo"
   ]
  },
  {
   "cell_type": "code",
   "execution_count": 26,
   "metadata": {},
   "outputs": [
    {
     "data": {
      "text/plain": [
       "GaussianNB(priors=None, var_smoothing=1e-09)"
      ]
     },
     "execution_count": 26,
     "metadata": {},
     "output_type": "execute_result"
    }
   ],
   "source": [
    "NB_classifier = GaussianNB()\n",
    "NB_classifier.fit(X_train_std_scaler, Y_train)"
   ]
  },
  {
   "cell_type": "code",
   "execution_count": 27,
   "metadata": {},
   "outputs": [],
   "source": [
    "Y_NB_pred = NB_classifier.predict(X_test_std_scaler)"
   ]
  },
  {
   "cell_type": "code",
   "execution_count": 28,
   "metadata": {},
   "outputs": [
    {
     "name": "stdout",
     "output_type": "stream",
     "text": [
      "Accuracy: 0.8469703670942061\n"
     ]
    }
   ],
   "source": [
    "print(f'Accuracy: {accuracy_score(Y_test, Y_NB_pred)}')"
   ]
  },
  {
   "cell_type": "code",
   "execution_count": 29,
   "metadata": {
    "scrolled": true
   },
   "outputs": [
    {
     "name": "stdout",
     "output_type": "stream",
     "text": [
      "Report:\n",
      "              precision    recall  f1-score   support\n",
      "\n",
      "           0       0.94      0.88      0.91      4006\n",
      "           1       0.38      0.55      0.45       516\n",
      "\n",
      "    accuracy                           0.85      4522\n",
      "   macro avg       0.66      0.72      0.68      4522\n",
      "weighted avg       0.88      0.85      0.86      4522\n",
      "\n"
     ]
    }
   ],
   "source": [
    "print('Report:')\n",
    "print(classification_report(Y_test, Y_NB_pred))"
   ]
  },
  {
   "cell_type": "code",
   "execution_count": 30,
   "metadata": {},
   "outputs": [
    {
     "name": "stdout",
     "output_type": "stream",
     "text": [
      "Matrix:\n",
      "[[3544  462]\n",
      " [ 230  286]]\n"
     ]
    }
   ],
   "source": [
    "print('Matrix:')\n",
    "print(confusion_matrix(Y_test, Y_NB_pred))"
   ]
  },
  {
   "cell_type": "markdown",
   "metadata": {},
   "source": [
    "Advantages\n",
    "\n",
    "It is not only a simple approach but also a fast and accurate method for prediction.\n",
    "Naive Bayes has very low computation cost.\n",
    "It can efficiently work on a large dataset.\n",
    "It performs well in case of discrete response variable compared to the continuous variable.\n",
    "It can be used with multiple class prediction problems.\n",
    "It also performs well in the case of text analytics problems.\n",
    "When the assumption of independence holds, a Naive Bayes classifier performs better compared to other models like logistic regression.\n",
    "\n",
    "\n",
    "Disadvantages\n",
    "\n",
    "The assumption of independent features. In practice, it is almost impossible that model will get a set of predictors which are entirely independent.\n",
    "If there is no training tuple of a particular class, this causes zero posterior probability. In this case, the model is unable to make predictions. This problem is known as Zero Probability/Frequency Problem."
   ]
  },
  {
   "cell_type": "markdown",
   "metadata": {},
   "source": [
    " "
   ]
  },
  {
   "cell_type": "markdown",
   "metadata": {},
   "source": [
    " "
   ]
  },
  {
   "cell_type": "markdown",
   "metadata": {},
   "source": [
    "# DECISION TREE\n",
    "https://www.datacamp.com/community/tutorials/decision-tree-classification-python"
   ]
  },
  {
   "cell_type": "markdown",
   "metadata": {},
   "source": [
    "Resultado de acurácia por tipo de scaler/normalizer de vários testes para a decision tree\n",
    "- power_transformer Accuracy: 0.8766032728881026\n",
    "- max_abs_scaler    Accuracy: 0.8761609907120743\n",
    "- min_max_scaler    Accuracy: 0.8748341441839894\n",
    "- normlizer         Accuracy: 0.8646616541353384\n",
    "- std_scaler        Accuracy: 0.874391862007961\n",
    "\n",
    "Abaixo exibimos o resultado para o melhor tipo"
   ]
  },
  {
   "cell_type": "code",
   "execution_count": 31,
   "metadata": {},
   "outputs": [
    {
     "data": {
      "text/plain": [
       "DecisionTreeClassifier(class_weight=None, criterion='gini', max_depth=None,\n",
       "                       max_features=None, max_leaf_nodes=None,\n",
       "                       min_impurity_decrease=0.0, min_impurity_split=None,\n",
       "                       min_samples_leaf=1, min_samples_split=2,\n",
       "                       min_weight_fraction_leaf=0.0, presort=False,\n",
       "                       random_state=None, splitter='best')"
      ]
     },
     "execution_count": 31,
     "metadata": {},
     "output_type": "execute_result"
    }
   ],
   "source": [
    "DT_classifier = DecisionTreeClassifier()\n",
    "DT_classifier.fit(X_train_power_transformer, Y_train)"
   ]
  },
  {
   "cell_type": "code",
   "execution_count": 32,
   "metadata": {},
   "outputs": [],
   "source": [
    "Y_DT_pred = DT_classifier.predict(X_test_power_transformer)"
   ]
  },
  {
   "cell_type": "code",
   "execution_count": 33,
   "metadata": {},
   "outputs": [
    {
     "name": "stdout",
     "output_type": "stream",
     "text": [
      "Accuracy: 0.883016364440513\n"
     ]
    }
   ],
   "source": [
    "print(f'Accuracy: {accuracy_score(Y_test, Y_DT_pred)}')"
   ]
  },
  {
   "cell_type": "code",
   "execution_count": 34,
   "metadata": {},
   "outputs": [
    {
     "name": "stdout",
     "output_type": "stream",
     "text": [
      "Report:\n",
      "              precision    recall  f1-score   support\n",
      "\n",
      "           0       0.94      0.93      0.93      4006\n",
      "           1       0.49      0.50      0.50       516\n",
      "\n",
      "    accuracy                           0.88      4522\n",
      "   macro avg       0.71      0.72      0.71      4522\n",
      "weighted avg       0.88      0.88      0.88      4522\n",
      "\n"
     ]
    }
   ],
   "source": [
    "print('Report:')\n",
    "print(classification_report(Y_test, Y_DT_pred))"
   ]
  },
  {
   "cell_type": "code",
   "execution_count": 35,
   "metadata": {},
   "outputs": [
    {
     "name": "stdout",
     "output_type": "stream",
     "text": [
      "Matrix:\n",
      "[[3733  273]\n",
      " [ 256  260]]\n"
     ]
    }
   ],
   "source": [
    "print('Matrix:')\n",
    "print(confusion_matrix(Y_test, Y_DT_pred))"
   ]
  },
  {
   "cell_type": "code",
   "execution_count": null,
   "metadata": {},
   "outputs": [],
   "source": [
    "dot_data = StringIO()\n",
    "\n",
    "export_graphviz(DT_classifier, \n",
    "                out_file=dot_data,  \n",
    "                filled=True, \n",
    "                rounded=True,\n",
    "                special_characters=True,\n",
    "                feature_names = feature_columns,\n",
    "                class_names=['0','1'])\n",
    "\n",
    "graph = pydotplus.graph_from_dot_data(dot_data.getvalue()) \n",
    "\n",
    "graph.write_png('deciciontree.png')\n",
    "Image(graph.create_png())"
   ]
  },
  {
   "cell_type": "markdown",
   "metadata": {},
   "source": [
    "Pros\n",
    "Decision trees are easy to interpret and visualize.\n",
    "It can easily capture Non-linear patterns.\n",
    "It requires fewer data preprocessing from the user, for example, there is no need to normalize columns.\n",
    "It can be used for feature engineering such as predicting missing values, suitable for variable selection.\n",
    "The decision tree has no assumptions about distribution because of the non-parametric nature of the algorithm. (Source)\n",
    "Cons\n",
    "Sensitive to noisy data. It can overfit noisy data.\n",
    "The small variation(or variance) in data can result in the different decision tree. This can be reduced by bagging and boosting algorithms.\n",
    "Decision trees are biased with imbalance dataset, so it is recommended that balance out the dataset before creating the decision tree."
   ]
  },
  {
   "cell_type": "markdown",
   "metadata": {},
   "source": [
    " "
   ]
  },
  {
   "cell_type": "markdown",
   "metadata": {},
   "source": [
    " "
   ]
  },
  {
   "cell_type": "markdown",
   "metadata": {},
   "source": [
    "# MLP\n",
    "https://www.kdnuggets.com/2016/10/beginners-guide-neural-networks-python-scikit-learn.html/2\n",
    "\n",
    "https://www.springboard.com/blog/beginners-guide-neural-network-in-python-scikit-learn-0-18/"
   ]
  },
  {
   "cell_type": "markdown",
   "metadata": {},
   "source": [
    "De acordo com as recomendações da referência e vários testes chegamos ao melhor resultado em tempo factível com as camadas internas 30 30 30 e máximo de 500 iterações. \n",
    "\n",
    "Resultado de acurácia por tipo de scaler/normalizer de vários testes para o MLP\n",
    "- max_abs_scaler    Accuracy: 0.903140203449801\n",
    "- std_scaler        Accuracy: 0.901813356921716\n",
    "- power_transformer Accuracy: 0.8998230871295887\n",
    "- min_max_scaler    Accuracy: 0.8987173816895179\n",
    "- normlizer         Accuracy: 0.894515701017249\n",
    "\n",
    "Abaixo exibimos o resultado para o melhor tipo"
   ]
  },
  {
   "cell_type": "code",
   "execution_count": 36,
   "metadata": {},
   "outputs": [
    {
     "name": "stderr",
     "output_type": "stream",
     "text": [
      "c:\\users\\felip\\appdata\\local\\programs\\python\\python37-32\\lib\\site-packages\\sklearn\\neural_network\\multilayer_perceptron.py:566: ConvergenceWarning: Stochastic Optimizer: Maximum iterations (500) reached and the optimization hasn't converged yet.\n",
      "  % self.max_iter, ConvergenceWarning)\n"
     ]
    },
    {
     "data": {
      "text/plain": [
       "MLPClassifier(activation='relu', alpha=0.0001, batch_size='auto', beta_1=0.9,\n",
       "              beta_2=0.999, early_stopping=False, epsilon=1e-08,\n",
       "              hidden_layer_sizes=(30, 30, 30), learning_rate='constant',\n",
       "              learning_rate_init=0.001, max_iter=500, momentum=0.9,\n",
       "              n_iter_no_change=10, nesterovs_momentum=True, power_t=0.5,\n",
       "              random_state=None, shuffle=True, solver='sgd', tol=1e-06,\n",
       "              validation_fraction=0.1, verbose=False, warm_start=False)"
      ]
     },
     "execution_count": 36,
     "metadata": {},
     "output_type": "execute_result"
    }
   ],
   "source": [
    "MLP_classifier = MLPClassifier(hidden_layer_sizes=(30,30,30), max_iter=500, solver='sgd', tol=0.000001)\n",
    "MLP_classifier.fit(X_train_max_abs_scaler, Y_train)"
   ]
  },
  {
   "cell_type": "code",
   "execution_count": 37,
   "metadata": {},
   "outputs": [],
   "source": [
    "Y_MLP_pred = MLP_classifier.predict(X_test_max_abs_scaler)"
   ]
  },
  {
   "cell_type": "code",
   "execution_count": 38,
   "metadata": {},
   "outputs": [
    {
     "name": "stdout",
     "output_type": "stream",
     "text": [
      "Accuracy: 0.9082264484741265\n"
     ]
    }
   ],
   "source": [
    "print(f'Accuracy: {accuracy_score(Y_test, Y_MLP_pred)}')"
   ]
  },
  {
   "cell_type": "code",
   "execution_count": 39,
   "metadata": {},
   "outputs": [
    {
     "name": "stdout",
     "output_type": "stream",
     "text": [
      "Report:\n",
      "              precision    recall  f1-score   support\n",
      "\n",
      "           0       0.93      0.97      0.95      4006\n",
      "           1       0.66      0.40      0.50       516\n",
      "\n",
      "    accuracy                           0.91      4522\n",
      "   macro avg       0.79      0.69      0.73      4522\n",
      "weighted avg       0.90      0.91      0.90      4522\n",
      "\n"
     ]
    }
   ],
   "source": [
    "print('Report:')\n",
    "print(classification_report(Y_test, Y_MLP_pred))"
   ]
  },
  {
   "cell_type": "code",
   "execution_count": 40,
   "metadata": {},
   "outputs": [
    {
     "name": "stdout",
     "output_type": "stream",
     "text": [
      "Matrix:\n",
      "[[3899  107]\n",
      " [ 308  208]]\n"
     ]
    }
   ],
   "source": [
    "print('Matrix:')\n",
    "print(confusion_matrix(Y_test, Y_MLP_pred))"
   ]
  },
  {
   "cell_type": "code",
   "execution_count": null,
   "metadata": {},
   "outputs": [],
   "source": []
  },
  {
   "cell_type": "markdown",
   "metadata": {},
   "source": [
    " "
   ]
  },
  {
   "cell_type": "markdown",
   "metadata": {},
   "source": [
    " "
   ]
  },
  {
   "cell_type": "markdown",
   "metadata": {},
   "source": [
    "# SVM\n",
    "https://stackabuse.com/implementing-svm-and-kernel-svm-with-pythons-scikit-learn/\n",
    "\n",
    "https://www.datacamp.com/community/tutorials/svm-classification-scikit-learn-python"
   ]
  },
  {
   "cell_type": "markdown",
   "metadata": {},
   "source": [
    "Dentre os tipos de kernel para o SVM disponibilizados pelo SKLearn, obtivemos o melhor com o RBF.\n",
    "\n",
    "Resultado de acurácia por tipo de scaler/normalizer de vários testes para o SVM\n",
    "- std_scaler        Accuracy: 0.900265369305617\n",
    "- power_transformer Accuracy: 0.8896505970809376\n",
    "- max_abs_scaler    Accuracy: 0.8856700574966829\n",
    "- min_max_scaler    Accuracy: 0.8847854931446263\n",
    "- normlizer         Accuracy: 0.8847854931446263\n",
    "\n",
    "Abaixo exibimos o resultado para o melhor tipo"
   ]
  },
  {
   "cell_type": "code",
   "execution_count": 41,
   "metadata": {},
   "outputs": [
    {
     "data": {
      "text/plain": [
       "SVC(C=1.0, cache_size=200, class_weight=None, coef0=0.0,\n",
       "    decision_function_shape='ovr', degree=8, gamma='auto_deprecated',\n",
       "    kernel='rbf', max_iter=-1, probability=False, random_state=None,\n",
       "    shrinking=True, tol=0.001, verbose=False)"
      ]
     },
     "execution_count": 41,
     "metadata": {},
     "output_type": "execute_result"
    }
   ],
   "source": [
    "SVC_classifier = SVC(kernel='rbf', degree=8)\n",
    "SVC_classifier.fit(X_train_std_scaler, Y_train)"
   ]
  },
  {
   "cell_type": "code",
   "execution_count": 42,
   "metadata": {},
   "outputs": [],
   "source": [
    "Y_SVC_pred = SVC_classifier.predict(X_test_std_scaler)"
   ]
  },
  {
   "cell_type": "code",
   "execution_count": 43,
   "metadata": {},
   "outputs": [
    {
     "name": "stdout",
     "output_type": "stream",
     "text": [
      "Accuracy: 0.9057938965059709\n"
     ]
    }
   ],
   "source": [
    "print(f'Accuracy: {accuracy_score(Y_test, Y_SVC_pred)}')"
   ]
  },
  {
   "cell_type": "code",
   "execution_count": 44,
   "metadata": {},
   "outputs": [
    {
     "name": "stdout",
     "output_type": "stream",
     "text": [
      "Report:\n",
      "              precision    recall  f1-score   support\n",
      "\n",
      "           0       0.92      0.98      0.95      4006\n",
      "           1       0.68      0.33      0.44       516\n",
      "\n",
      "    accuracy                           0.91      4522\n",
      "   macro avg       0.80      0.65      0.70      4522\n",
      "weighted avg       0.89      0.91      0.89      4522\n",
      "\n"
     ]
    }
   ],
   "source": [
    "print('Report:')\n",
    "print(classification_report(Y_test, Y_SVC_pred))"
   ]
  },
  {
   "cell_type": "code",
   "execution_count": 45,
   "metadata": {},
   "outputs": [
    {
     "name": "stdout",
     "output_type": "stream",
     "text": [
      "Matrix:\n",
      "[[3927   79]\n",
      " [ 347  169]]\n"
     ]
    }
   ],
   "source": [
    "print('Matrix:')\n",
    "print(confusion_matrix(Y_test, Y_SVC_pred))"
   ]
  },
  {
   "cell_type": "markdown",
   "metadata": {},
   "source": [
    "Advantages\n",
    "\n",
    "SVM Classifiers offer good accuracy and perform faster prediction compared to Naïve Bayes algorithm. They also use less memory because they use a subset of training points in the decision phase. SVM works well with a clear margin of separation and with high dimensional space.\n",
    "\n",
    "Disadvantages\n",
    "\n",
    "SVM is not suitable for large datasets because of its high training time and it also takes more time in training compared to Naïve Bayes. It works poorly with overlapping classes and is also sensitive to the type of kernel used."
   ]
  },
  {
   "cell_type": "markdown",
   "metadata": {},
   "source": [
    " "
   ]
  },
  {
   "cell_type": "markdown",
   "metadata": {},
   "source": [
    "## Resultados\n",
    "1 - MLP com max_abs_scaler Accuracy: 0.9082264484741265\n",
    "\n",
    "2 - SVM RBF com std_scaler Accuracy: 0.9057938965059709\n",
    "\n",
    "3 - KNN com std_scaler Accuracy: 0.8987173816895179\n",
    "\n",
    "4 - Decision Tree com power_transformer Accuracy: 0.883016364440513\n",
    "\n",
    "5 - NB com std_scaler Accuracy: 0.8469703670942061\n"
   ]
  },
  {
   "cell_type": "markdown",
   "metadata": {},
   "source": [
    "O melhor classificador foi o MLP (redes neurais), mas um grande downside dele é o grande tempo de treino (5 minutos, comparado com segundos dos demais). Tendo isso em mente, a melhor escolha para uma futura classificação/treino de dados seria o SVM RBF que não teve um resultado tão pior e tem um tempo de treino pequeno."
   ]
  },
  {
   "cell_type": "code",
   "execution_count": null,
   "metadata": {},
   "outputs": [],
   "source": []
  }
 ],
 "metadata": {
  "kernelspec": {
   "display_name": "Python 3",
   "language": "python",
   "name": "python3"
  },
  "language_info": {
   "codemirror_mode": {
    "name": "ipython",
    "version": 3
   },
   "file_extension": ".py",
   "mimetype": "text/x-python",
   "name": "python",
   "nbconvert_exporter": "python",
   "pygments_lexer": "ipython3",
   "version": "3.7.0"
  }
 },
 "nbformat": 4,
 "nbformat_minor": 2
}
